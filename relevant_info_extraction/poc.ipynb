{
 "cells": [
  {
   "cell_type": "code",
   "execution_count": 15,
   "id": "f29996e1-4a9a-47f0-8a00-7fd10ce544ab",
   "metadata": {},
   "outputs": [],
   "source": [
    "import transformers"
   ]
  },
  {
   "cell_type": "code",
   "execution_count": 33,
   "id": "f17458ac-6bcf-4574-bb5e-320e1c8a44e0",
   "metadata": {},
   "outputs": [],
   "source": [
    "import torch\n",
    "import torch.nn as nn\n",
    "import numpy as np\n",
    "import pandas as pd"
   ]
  },
  {
   "cell_type": "code",
   "execution_count": 17,
   "id": "7ce4eeea-f36e-4718-8ca2-ada60b53f45d",
   "metadata": {},
   "outputs": [
    {
     "name": "stderr",
     "output_type": "stream",
     "text": [
      "Some weights of the model checkpoint at bert-base-uncased were not used when initializing BertModel: ['cls.seq_relationship.bias', 'cls.predictions.transform.dense.weight', 'cls.predictions.decoder.weight', 'cls.seq_relationship.weight', 'cls.predictions.transform.dense.bias', 'cls.predictions.transform.LayerNorm.weight', 'cls.predictions.bias', 'cls.predictions.transform.LayerNorm.bias']\n",
      "- This IS expected if you are initializing BertModel from the checkpoint of a model trained on another task or with another architecture (e.g. initializing a BertForSequenceClassification model from a BertForPreTraining model).\n",
      "- This IS NOT expected if you are initializing BertModel from the checkpoint of a model that you expect to be exactly identical (initializing a BertForSequenceClassification model from a BertForSequenceClassification model).\n"
     ]
    }
   ],
   "source": [
    "model = transformers.BertModel.from_pretrained('bert-base-uncased')"
   ]
  },
  {
   "cell_type": "markdown",
   "id": "ac0a80a8-6e47-49dc-8dfd-a78499a0d3b6",
   "metadata": {},
   "source": [
    "### very basic and similar to https://arxiv.org/pdf/2005.09207.pdf"
   ]
  },
  {
   "cell_type": "code",
   "execution_count": 18,
   "id": "685922f1-9717-4fca-9430-f875bca62a6b",
   "metadata": {},
   "outputs": [],
   "source": [
    "def encode_table_query(model, table, query):\n",
    "    tokenizer = transformers.BertTokenizer.from_pretrained('bert-base-uncased')\n",
    "    inputs = tokenizer.encode_plus(table, query, add_special_tokens=True, return_tensors='pt')\n",
    "    with torch.no_grad():\n",
    "        outputs = model(**inputs)\n",
    "    return outputs.last_hidden_state.mean(dim=1)"
   ]
  },
  {
   "cell_type": "code",
   "execution_count": 19,
   "id": "4388dce8-756e-4697-824e-234435b6d826",
   "metadata": {},
   "outputs": [],
   "source": [
    "def retrieve_relevant_info(table_representation, query_representation):\n",
    "    scores = torch.nn.functional.cosine_similarity(table_representation, query_representation)\n",
    "    relevant_rows = scores.topk(k=1, dim=0).indices.tolist()\n",
    "    return relevant_rows"
   ]
  },
  {
   "cell_type": "code",
   "execution_count": 20,
   "id": "35f300be-e16b-4192-99b1-65098eb4e99f",
   "metadata": {},
   "outputs": [
    {
     "name": "stdout",
     "output_type": "stream",
     "text": [
      "Relevant rows: [0]\n"
     ]
    }
   ],
   "source": [
    "table = \"Name | Capital | Population\\n------------------------------\\nFrance| Paris  | 66 million\\n------------------------------\\nGermany| Berlin | 83 million\\n------------------------------\\nItaly | Rome   | 60 million\"\n",
    "query = \"Capital and population of Cities?\"\n",
    "\n",
    "table_representation = encode_table_query(model, table, \"\")\n",
    "query_representation = encode_table_query(model, \"\", query)\n",
    "relevant_rows = retrieve_relevant_info(table_representation, query_representation)\n",
    "\n",
    "print(\"Relevant rows:\", relevant_rows)"
   ]
  },
  {
   "cell_type": "code",
   "execution_count": 21,
   "id": "fa67b8f0-d6ba-45b2-8847-ce095d34dca0",
   "metadata": {},
   "outputs": [],
   "source": [
    "def encode_table(model, table, caption, reference):\n",
    "    input_text = caption + \" \" + reference + \" \" + table\n",
    "    input_ids = transformers.BertTokenizer.from_pretrained('bert-base-uncased').encode(input_text, return_tensors='pt')\n",
    "    with torch.no_grad():\n",
    "        outputs = model(input_ids)\n",
    "    return outputs[0].mean(dim=1)"
   ]
  },
  {
   "cell_type": "code",
   "execution_count": 22,
   "id": "728016d0-8bca-49fd-b846-36874634bac5",
   "metadata": {},
   "outputs": [],
   "source": [
    "class RelevancePredictor(nn.Module):\n",
    "    def __init__(self, hidden_size, num_classes):\n",
    "        super(RelevancePredictor, self).__init__()\n",
    "        self.fc = nn.Linear(hidden_size, num_classes)\n",
    "\n",
    "    def forward(self, x):\n",
    "        x = self.fc(x)\n",
    "        return x"
   ]
  },
  {
   "cell_type": "code",
   "execution_count": 23,
   "id": "39c64957-41ed-499a-88c8-4c62259f2d5c",
   "metadata": {},
   "outputs": [
    {
     "name": "stdout",
     "output_type": "stream",
     "text": [
      "Relevance predictions: tensor([[-0.2970]], grad_fn=<AddmmBackward0>)\n"
     ]
    }
   ],
   "source": [
    "# Example usage\n",
    "table = \"Name | Capital | Population\\n------------------------------\\nFrance| Paris  | 66 million\\n------------------------------\\nGermany| Berlin | 83 million\\n------------------------------\\nItaly | Rome   | 60 million\"\n",
    "caption = \"Information about countries\"\n",
    "reference = \"Source: Wikipedia\"\n",
    "\n",
    "table_representation = encode_table(model, table, caption, reference)\n",
    "model = RelevancePredictor(hidden_size=table_representation.size(-1), num_classes=1)\n",
    "predictions = model(table_representation)\n",
    "\n",
    "print(\"Relevance predictions:\", predictions)"
   ]
  },
  {
   "cell_type": "markdown",
   "id": "8bbf8877-7c83-4efe-a17d-68bd6671424a",
   "metadata": {},
   "source": [
    "### Rows and columns with maximum number of non-zero values"
   ]
  },
  {
   "cell_type": "code",
   "execution_count": 28,
   "id": "6db52a56-7694-4df6-8f09-d5e8bee94f69",
   "metadata": {},
   "outputs": [
    {
     "name": "stdout",
     "output_type": "stream",
     "text": [
      "Rows with maximum number of non-zero values:\n",
      "['USA' '331,449,281' '9,826,630' '62,794']\n",
      "['Canada' '38,048,738' '9,984,670' '48,265']\n",
      "['Mexico' '129,166,028' '1,964,375' '9,747']\n",
      "['Argentina' '45,197,956' '2,780,400' '11,866']\n",
      "['Brazil' '212,559,417' '8,515,767' '9,126']\n",
      "Columns with maximum number of non-zero values:\n",
      "['Country' 'USA' 'Canada' 'Mexico' 'Argentina' 'Brazil']\n",
      "['Population' '331,449,281' '38,048,738' '129,166,028' '45,197,956'\n",
      " '212,559,417']\n",
      "['Area (km²)' '9,826,630' '9,984,670' '1,964,375' '2,780,400' '8,515,767']\n",
      "['GDP per capita (USD)' '62,794' '48,265' '9,747' '11,866' '9,126']\n"
     ]
    }
   ],
   "source": [
    "# define the table as a numpy array\n",
    "table = np.array([\n",
    "    [ 'Country', 'Population', 'Area (km²)', 'GDP per capita (USD)'],\n",
    "    [ 'USA', '331,449,281', '9,826,630', '62,794'],\n",
    "    [ 'Canada', '38,048,738', '9,984,670', '48,265'],\n",
    "    [ 'Mexico', '129,166,028', '1,964,375', '9,747'],\n",
    "    [ 'Argentina', '45,197,956', '2,780,400', '11,866'],\n",
    "    [ 'Brazil', '212,559,417', '8,515,767', '9,126']\n",
    "])\n",
    "\n",
    "# find rows with the maximum number of non-zero values\n",
    "non_zero_counts = np.count_nonzero(table[1:], axis=1)\n",
    "max_non_zero_count = np.max(non_zero_counts)\n",
    "max_non_zero_rows = table[1:][non_zero_counts == max_non_zero_count]\n",
    "\n",
    "print(\"Rows with maximum number of non-zero values:\")\n",
    "for row in max_non_zero_rows:\n",
    "    print(row)\n",
    "\n",
    "# find columns with the maximum number of non-zero values\n",
    "non_zero_counts = np.count_nonzero(table[1:], axis=0)\n",
    "max_non_zero_count = np.max(non_zero_counts)\n",
    "max_non_zero_cols = table[:,non_zero_counts == max_non_zero_count]\n",
    "\n",
    "print(\"Columns with maximum number of non-zero values:\")\n",
    "for col in max_non_zero_cols.T:\n",
    "    print(col)"
   ]
  },
  {
   "cell_type": "markdown",
   "id": "0139b65e-1c88-47cf-b73c-ca674f118a37",
   "metadata": {},
   "source": [
    "### Rows with the most frequent values as relevant"
   ]
  },
  {
   "cell_type": "code",
   "execution_count": 29,
   "id": "4f75dcaf-cb6e-4d4c-92d6-d2708ab30639",
   "metadata": {},
   "outputs": [
    {
     "name": "stdout",
     "output_type": "stream",
     "text": [
      "     Country  Population  Area (km²)  GDP per capita (USD)\n",
      "1     Canada    38048738     9984670                 48265\n",
      "2     Mexico   129166028     1964375                  9747\n",
      "3  Argentina    45197956     2780400                 11866\n",
      "4     Brazil   212559417     8515767                  9126\n"
     ]
    }
   ],
   "source": [
    "data = {\n",
    "    \"Country\": [\"USA\", \"Canada\", \"Mexico\", \"Argentina\", \"Brazil\"],\n",
    "    \"Population\": [331449281, 38048738, 129166028, 45197956, 212559417],\n",
    "    \"Area (km²)\": [9826630, 9984670, 1964375, 2780400, 8515767],\n",
    "    \"GDP per capita (USD)\": [62794, 48265, 9747, 11866, 9126]\n",
    "}\n",
    "table = pd.DataFrame(data)\n",
    "\n",
    "most_frequent_row = table.mode().iloc[0]\n",
    "\n",
    "relevant_rows = table[table.eq(most_frequent_row).any(axis=1)]\n",
    "\n",
    "print(relevant_rows)"
   ]
  },
  {
   "cell_type": "markdown",
   "id": "700a1a92-5203-461a-98f0-f8295fee2038",
   "metadata": {},
   "source": [
    "### Columns with the highest standard deviation as relevant"
   ]
  },
  {
   "cell_type": "code",
   "execution_count": 30,
   "id": "9d6b8ddd-d561-45ce-a26b-3954a15c14d1",
   "metadata": {},
   "outputs": [
    {
     "name": "stdout",
     "output_type": "stream",
     "text": [
      "   Population\n",
      "0   331449281\n",
      "1    38048738\n",
      "2   129166028\n",
      "3    45197956\n",
      "4   212559417\n"
     ]
    },
    {
     "name": "stderr",
     "output_type": "stream",
     "text": [
      "/tmp/ipykernel_371043/2781234655.py:9: FutureWarning: The default value of numeric_only in DataFrame.std is deprecated. In a future version, it will default to False. In addition, specifying 'numeric_only=None' is deprecated. Select only valid columns or specify the value of numeric_only to silence this warning.\n",
      "  highest_std_col = table.std().idxmax()\n"
     ]
    }
   ],
   "source": [
    "data = {\n",
    "    \"Country\": [\"USA\", \"Canada\", \"Mexico\", \"Argentina\", \"Brazil\"],\n",
    "    \"Population\": [331449281, 38048738, 129166028, 45197956, 212559417],\n",
    "    \"Area (km²)\": [9826630, 9984670, 1964375, 2780400, 8515767],\n",
    "    \"GDP per capita (USD)\": [62794, 48265, 9747, 11866, 9126]\n",
    "}\n",
    "table = pd.DataFrame(data)\n",
    "\n",
    "highest_std_col = table.std().idxmax()\n",
    "\n",
    "relevant_cols = table.loc[:, [highest_std_col]]\n",
    "\n",
    "print(relevant_cols)"
   ]
  },
  {
   "cell_type": "markdown",
   "id": "0aa10c50-d806-4f68-a7a3-7f4754cf1812",
   "metadata": {},
   "source": [
    "### Columns with a high percentage of non-empty cells"
   ]
  },
  {
   "cell_type": "code",
   "execution_count": 31,
   "id": "4aad71eb-5f6d-493b-8c89-6936bbf9ac19",
   "metadata": {},
   "outputs": [
    {
     "name": "stdout",
     "output_type": "stream",
     "text": [
      "     Country  Population  Area (km²)  GDP per capita (USD)\n",
      "0        USA   331449281     9826630                 62794\n",
      "1     Canada    38048738     9984670                 48265\n",
      "2     Mexico   129166028     1964375                  9747\n",
      "3  Argentina    45197956     2780400                 11866\n",
      "4     Brazil   212559417     8515767                  9126\n"
     ]
    }
   ],
   "source": [
    "data = {\n",
    "    \"Country\": [\"USA\", \"Canada\", \"Mexico\", \"Argentina\", \"Brazil\"],\n",
    "    \"Population\": [331449281, 38048738, 129166028, 45197956, 212559417],\n",
    "    \"Area (km²)\": [9826630, 9984670, 1964375, 2780400, 8515767],\n",
    "    \"GDP per capita (USD)\": [62794, 48265, 9747, 11866, 9126]\n",
    "}\n",
    "table = pd.DataFrame(data)\n",
    "\n",
    "non_empty_percent = table.count() / table.shape[0] * 100\n",
    "\n",
    "relevant_cols = table.loc[:, non_empty_percent > 50]\n",
    "\n",
    "print(relevant_cols)"
   ]
  },
  {
   "cell_type": "markdown",
   "id": "68b78661-2ad8-4ec6-9be3-7d68bb85c613",
   "metadata": {},
   "source": [
    "### Rows that contain aggregate data such as sums, averages, etc. can also be considered important"
   ]
  },
  {
   "cell_type": "code",
   "execution_count": 34,
   "id": "2391b77e-c671-4067-b577-5c69af63de08",
   "metadata": {},
   "outputs": [
    {
     "name": "stdout",
     "output_type": "stream",
     "text": [
      "          City  Population  Median Age  Average Income (USD)  \\\n",
      "0     New York     8336817        36.4                 77000   \n",
      "1  Los Angeles     3979576        35.2                 65000   \n",
      "2      Chicago     2693976        34.1                 63000   \n",
      "3      Houston     2320268        33.8                 59000   \n",
      "4      Phoenix     1680992        33.6                 55000   \n",
      "\n",
      "   Average Rent (USD)  Mean Population  Sum Avg Income and Rent  \n",
      "0                2900      2104188.350                    79900  \n",
      "1                2300      1011727.800                    67300  \n",
      "2                1800       689702.525                    64800  \n",
      "3                1200       595125.450                    60200  \n",
      "4                1100       434281.400                    56100  \n"
     ]
    }
   ],
   "source": [
    "data = {'City': ['New York', 'Los Angeles', 'Chicago', 'Houston', 'Phoenix'],\n",
    "        'Population': [8336817, 3979576, 2693976, 2320268, 1680992],\n",
    "        'Median Age': [36.4, 35.2, 34.1, 33.8, 33.6],\n",
    "        'Average Income (USD)': [77000, 65000, 63000, 59000, 55000],\n",
    "        'Average Rent (USD)': [2900, 2300, 1800, 1200, 1100]}\n",
    "\n",
    "df = pd.DataFrame(data)\n",
    "\n",
    "agg_cols = ['Population', 'Median Age', 'Average Income (USD)', 'Average Rent (USD)']\n",
    "\n",
    "df['Mean Population'] = df[agg_cols].mean(axis=1)\n",
    "df['Sum Avg Income and Rent'] = df['Average Income (USD)'] + df['Average Rent (USD)']\n",
    "\n",
    "sorted_df = df.sort_values(by=['Mean Population', 'Sum Avg Income and Rent'], ascending=[False, False])\n",
    "\n",
    "print(sorted_df)"
   ]
  },
  {
   "cell_type": "markdown",
   "id": "4c1075a2-589a-45f6-ab04-cfa5479b1545",
   "metadata": {},
   "source": [
    "### Correlation: Relevant rows and columns can be selected based on the correlation of the data in a column with the data in other columns."
   ]
  },
  {
   "cell_type": "markdown",
   "id": "1124c41b-96ce-4120-ab22-3ddfc42d142b",
   "metadata": {},
   "source": [
    "| City      | Population | Area (km²) | Average temperature (°C) | Elevation (m) |\n",
    "|-----------|------------|------------|--------------------------|---------------|\n",
    "| Tokyo     | 13,515,271 | 2,187      | 16.2                     | 44            |\n",
    "| New York  | 8,175,133  | 468.9      | 12.9                     | 10            |\n",
    "| London    | 8,982,000  | 1,572      | 9.8                      | 35            |\n",
    "| Paris     | 2,148,271  | 105.4      | 11.5                     | 35            |\n",
    "| Istanbul  | 15,029,231 | 5,461      | 13.9                     | 110           |\n"
   ]
  },
  {
   "cell_type": "code",
   "execution_count": 35,
   "id": "645f9104-7eaa-4e0e-bc8f-88cc72e86752",
   "metadata": {},
   "outputs": [
    {
     "name": "stdout",
     "output_type": "stream",
     "text": [
      "   Population  Area (km²)  Average temperature (°C)  Elevation (m)\n",
      "0    13515271      2187.0                      16.2             44\n",
      "1     8175133       468.9                      12.9             10\n",
      "2     8982000      1572.0                       9.8             35\n",
      "3     2148271       105.4                      11.5             35\n",
      "4    15029231      5461.0                      13.9            110\n"
     ]
    },
    {
     "name": "stderr",
     "output_type": "stream",
     "text": [
      "/tmp/ipykernel_371043/3838197159.py:8: FutureWarning: The default value of numeric_only in DataFrame.corr is deprecated. In a future version, it will default to False. Select only valid columns or specify the value of numeric_only to silence this warning.\n",
      "  corr_matrix = df.corr()\n"
     ]
    }
   ],
   "source": [
    "data = {'City': ['Tokyo', 'New York', 'London', 'Paris', 'Istanbul'],\n",
    "        'Population': [13515271, 8175133, 8982000, 2148271, 15029231],\n",
    "        'Area (km²)': [2187, 468.9, 1572, 105.4, 5461],\n",
    "        'Average temperature (°C)': [16.2, 12.9, 9.8, 11.5, 13.9],\n",
    "        'Elevation (m)': [44, 10, 35, 35, 110]}\n",
    "df = pd.DataFrame(data)\n",
    "\n",
    "corr_matrix = df.corr()\n",
    "\n",
    "relevant_columns = []\n",
    "threshold = 0.8\n",
    "for col in corr_matrix.columns:\n",
    "    if max(corr_matrix[col]) > threshold:\n",
    "        relevant_columns.append(col)\n",
    "\n",
    "df_relevant = df[relevant_columns]\n",
    "\n",
    "print(df_relevant)"
   ]
  },
  {
   "cell_type": "code",
   "execution_count": null,
   "id": "644305ac-5671-4cfd-bae7-c89e65f3f7e4",
   "metadata": {},
   "outputs": [],
   "source": []
  }
 ],
 "metadata": {
  "kernelspec": {
   "display_name": "Python 3 (ipykernel)",
   "language": "python",
   "name": "python3"
  },
  "language_info": {
   "codemirror_mode": {
    "name": "ipython",
    "version": 3
   },
   "file_extension": ".py",
   "mimetype": "text/x-python",
   "name": "python",
   "nbconvert_exporter": "python",
   "pygments_lexer": "ipython3",
   "version": "3.10.6"
  }
 },
 "nbformat": 4,
 "nbformat_minor": 5
}
