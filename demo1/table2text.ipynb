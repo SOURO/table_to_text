{
 "cells": [
  {
   "cell_type": "markdown",
   "id": "0efe8cdd-c917-497e-8410-3350757b7c7c",
   "metadata": {},
   "source": [
    "https://huggingface.co/Narrativaai/bloom-560m-finetuned-totto-table-to-text"
   ]
  },
  {
   "cell_type": "code",
   "execution_count": 18,
   "id": "d6c589fe-6f29-4268-95a6-05ccf2411c8d",
   "metadata": {},
   "outputs": [
    {
     "name": "stderr",
     "output_type": "stream",
     "text": [
      "Found cached dataset totto (/home/mukherjee/.cache/huggingface/datasets/totto/default/1.0.0/263c85871e5451bc892c65ca0306c0629eb7beb161e0eb998f56231562335dd2)\n"
     ]
    }
   ],
   "source": [
    "from datasets import load_dataset\n",
    "from transformers import BloomTokenizerFast, BloomForCausalLM\n",
    "\n",
    "valid_dataset = load_dataset('totto', split='validation')\n",
    "\n",
    "from preprocess import preprocess"
   ]
  },
  {
   "cell_type": "code",
   "execution_count": 19,
   "id": "b7abdd97-4884-4607-832f-f4f4bfffbd83",
   "metadata": {},
   "outputs": [
    {
     "name": "stdout",
     "output_type": "stream",
     "text": [
      "id\n",
      "1\n",
      "\n",
      "\n",
      "table_page_title\n",
      "Alma Jodorowsky\n",
      "\n",
      "\n",
      "table_webpage_url\n",
      "http://en.wikipedia.org/wiki/Alma_Jodorowsky\n",
      "\n",
      "\n",
      "table_section_title\n",
      "Filmography\n",
      "\n",
      "\n",
      "table_section_text\n",
      "\n",
      "\n",
      "\n",
      "table\n",
      "[[{'column_span': 1, 'is_header': True, 'row_span': 1, 'value': 'Year'}, {'column_span': 1, 'is_header': True, 'row_span': 1, 'value': 'Title'}, {'column_span': 1, 'is_header': True, 'row_span': 1, 'value': 'Role'}, {'column_span': 1, 'is_header': True, 'row_span': 1, 'value': 'Notes'}], [{'column_span': 1, 'is_header': False, 'row_span': 1, 'value': '2006'}, {'column_span': 1, 'is_header': False, 'row_span': 1, 'value': 'Gaspard le Bandit'}, {'column_span': 1, 'is_header': False, 'row_span': 1, 'value': 'Mathilde de Varade'}, {'column_span': 1, 'is_header': False, 'row_span': 1, 'value': 'Period TV film'}], [{'column_span': 1, 'is_header': False, 'row_span': 3, 'value': '2011'}, {'column_span': 1, 'is_header': False, 'row_span': 1, 'value': 'Eyes Find Eyes'}, {'column_span': 1, 'is_header': False, 'row_span': 1, 'value': 'Estelle'}, {'column_span': 1, 'is_header': False, 'row_span': 1, 'value': ''}], [{'column_span': 1, 'is_header': False, 'row_span': 1, 'value': 'Section de recherche'}, {'column_span': 1, 'is_header': False, 'row_span': 1, 'value': 'Caroline'}, {'column_span': 1, 'is_header': False, 'row_span': 1, 'value': 'Police TV series (1 episode: No.5.3)'}], [{'column_span': 1, 'is_header': False, 'row_span': 1, 'value': 'Awake to Emptiness'}, {'column_span': 1, 'is_header': False, 'row_span': 1, 'value': 'Alma'}, {'column_span': 1, 'is_header': False, 'row_span': 1, 'value': 'Short film'}], [{'column_span': 1, 'is_header': False, 'row_span': 1, 'value': '2012'}, {'column_span': 1, 'is_header': False, 'row_span': 1, 'value': 'Sea, No Sex and Sun'}, {'column_span': 1, 'is_header': False, 'row_span': 1, 'value': 'Diane'}, {'column_span': 1, 'is_header': False, 'row_span': 1, 'value': ''}], [{'column_span': 1, 'is_header': False, 'row_span': 1, 'value': '2013'}, {'column_span': 1, 'is_header': False, 'row_span': 1, 'value': 'Blue Is the Warmest Colour'}, {'column_span': 1, 'is_header': False, 'row_span': 1, 'value': 'Béatrice'}, {'column_span': 1, 'is_header': False, 'row_span': 1, 'value': ''}], [{'column_span': 1, 'is_header': False, 'row_span': 1, 'value': '2014'}, {'column_span': 1, 'is_header': False, 'row_span': 1, 'value': 'La Vie devant elles [fr]'}, {'column_span': 1, 'is_header': False, 'row_span': 1, 'value': 'Solana'}, {'column_span': 1, 'is_header': False, 'row_span': 1, 'value': 'TV series by Gabriel Aghion (6 episodes)'}], [{'column_span': 1, 'is_header': False, 'row_span': 1, 'value': '2016'}, {'column_span': 1, 'is_header': False, 'row_span': 1, 'value': 'Kids in Love'}, {'column_span': 1, 'is_header': False, 'row_span': 1, 'value': 'Evelyn'}, {'column_span': 1, 'is_header': False, 'row_span': 1, 'value': 'Ealing Studios'}], [{'column_span': 1, 'is_header': False, 'row_span': 1, 'value': '2017'}, {'column_span': 1, 'is_header': False, 'row_span': 1, 'value': 'The Starry Sky Above Me'}, {'column_span': 1, 'is_header': False, 'row_span': 1, 'value': 'Justyna'}, {'column_span': 1, 'is_header': False, 'row_span': 1, 'value': ''}], [{'column_span': 1, 'is_header': False, 'row_span': 1, 'value': 'TBA'}, {'column_span': 1, 'is_header': False, 'row_span': 1, 'value': 'Smiley'}, {'column_span': 1, 'is_header': False, 'row_span': 1, 'value': 'TBA'}, {'column_span': 1, 'is_header': False, 'row_span': 1, 'value': ''}]]\n",
      "\n",
      "\n",
      "highlighted_cells\n",
      "[[8, 0], [8, 1], [8, 2]]\n",
      "\n",
      "\n",
      "example_id\n",
      "9012083751335522596\n",
      "\n",
      "\n",
      "sentence_annotations\n",
      "{'original_sentence': ['Recently she has landed the lead role of Evelyn in 2016 British film Kids in Love, alongside Will Poulter, Sebastian de Souza and supermodel Cara Delevingne.', 'Recently she has landed the lead role of Evelyn in 2016 British film Kids in Love, alongside Will Poulter, Sebastian de Souza and supermodel Cara Delevingne.', 'Recently she has landed the lead role of Evelyn in 2016 British film Kids in Love, alongside Will Poulter, Sebastian de Souza and supermodel Cara Delevingne.'], 'sentence_after_deletion': ['she has role of Evelyn in 2016 film Kids in Love.', 'she has Evelyn in 2016 film Kids in Love.', 'she role of Evelyn in 2016 film Kids in Love.'], 'sentence_after_ambiguity': ['Alma Jodorowsky has a role of Evelyn in 2016 film Kids in Love.', 'Alma Jodorowsky has played Evelyn in 2016 film Kids in Love.', 'Alma Jodorowsky played the role of Evelyn in 2016 film Kids in Love.'], 'final_sentence': ['Alma Jodorowsky had the role of Evelyn in 2016 film Kids in Love.', 'Alma Jodorowsky played Evelyn in the 2016 film Kids in Love.', 'Alma Jodorowsky played the role of Evelyn in the 2016 film Kids in Love.']}\n",
      "\n",
      "\n",
      "overlap_subset\n",
      "True\n",
      "\n",
      "\n"
     ]
    }
   ],
   "source": [
    "for key, val in valid_dataset[1].items():\n",
    "    print(key)\n",
    "    print(val)\n",
    "    print('\\n')"
   ]
  },
  {
   "cell_type": "code",
   "execution_count": 20,
   "id": "f21ca639-0380-4caf-a67f-d1e706b2b3a3",
   "metadata": {},
   "outputs": [
    {
     "name": "stderr",
     "output_type": "stream",
     "text": [
      "Loading cached processed dataset at /home/mukherjee/.cache/huggingface/datasets/totto/default/1.0.0/263c85871e5451bc892c65ca0306c0629eb7beb161e0eb998f56231562335dd2/cache-6ae62e2c254ef7df.arrow\n"
     ]
    }
   ],
   "source": [
    "valid_dataset = valid_dataset.map(preprocess)"
   ]
  },
  {
   "cell_type": "code",
   "execution_count": 21,
   "id": "17982f78-e8fd-4a13-a607-fda980356834",
   "metadata": {},
   "outputs": [
    {
     "name": "stdout",
     "output_type": "stream",
     "text": [
      "<s><page_title> Alma Jodorowsky </page_title> <section_title> Filmography </section_title> <table> <row> <c> Year </c> <c> Title <row_header> Year </row_header> </c> <c> Role <row_header> Year </row_header> <row_header> Title </row_header> </c> <c> Notes <row_header> Year </row_header> <row_header> Title </row_header> <row_header> Role </row_header> </c> </row> <row> <c> 2006 <col_header> Year </col_header> </c> <c> Gaspard le Bandit <col_header> Title </col_header> </c> <c> Mathilde de Varade <col_header> Role </col_header> </c> <c> Period TV film <col_header> Notes </col_header> </c> </row> <row> <c> 2011 <col_header> Year </col_header> </c> <c> Eyes Find Eyes <col_header> Title </col_header> </c> <c> Estelle <col_header> Role </col_header> </c> <c>  <col_header> Notes </col_header> </c> </row> <row> <c> Section de recherche <col_header> Year </col_header> </c> <c> Caroline <col_header> Title </col_header> </c> <c> Police TV series (1 episode: No.5.3) <col_header> Role </col_header> </c> </row> <row> <c> Awake to Emptiness <col_header> Year </col_header> </c> <c> Alma <col_header> Title </col_header> </c> <c> Short film <col_header> Role </col_header> </c> </row> <row> <c> 2012 <col_header> Year </col_header> </c> <c> Sea, No Sex and Sun <col_header> Title </col_header> </c> <c> Diane <col_header> Role </col_header> </c> <c>  <col_header> Notes </col_header> </c> </row> <row> <c> 2013 <col_header> Year </col_header> </c> <c> Blue Is the Warmest Colour <col_header> Title </col_header> </c> <c> Béatrice <col_header> Role </col_header> </c> <c>  <col_header> Notes </col_header> </c> </row> <row> <c> 2014 <col_header> Year </col_header> </c> <c> La Vie devant elles [fr] <col_header> Title </col_header> </c> <c> Solana <col_header> Role </col_header> </c> <c> TV series by Gabriel Aghion (6 episodes) <col_header> Notes </col_header> </c> </row> <row> <highlighted_cell> 2016 <col_header> Year </col_header> </highlighted_cell> <highlighted_cell> Kids in Love <col_header> Title </col_header> </highlighted_cell> <highlighted_cell> Evelyn <col_header> Role </col_header> </highlighted_cell> <c> Ealing Studios <col_header> Notes </col_header> </c> </row> <row> <c> 2017 <col_header> Year </col_header> </c> <c> The Starry Sky Above Me <col_header> Title </col_header> </c> <c> Justyna <col_header> Role </col_header> </c> <c>  <col_header> Notes </col_header> </c> </row> <row> <c> TBA <col_header> Year </col_header> </c> <c> Smiley <col_header> Title </col_header> </c> <c> TBA <col_header> Role </col_header> </c> <c>  <col_header> Notes </col_header> </c> </row> </table>\n",
      "\n",
      "\n"
     ]
    }
   ],
   "source": [
    "print(valid_dataset[1]['linearized_table'])"
   ]
  },
  {
   "cell_type": "code",
   "execution_count": 22,
   "id": "e51dada0-2fab-49c8-985e-d4e141ed9e0e",
   "metadata": {},
   "outputs": [
    {
     "name": "stdout",
     "output_type": "stream",
     "text": [
      "<s><page_title> Alma Jodorowsky </page_title> <section_title> Filmography </section_title> <table> <row> <c> Year </c> <c> Title <row_header> Year </row_header> </c> <c> Role <row_header> Year </row_header> <row_header> Title </row_header> </c> <c> Notes <row_header> Year </row_header> <row_header> Title </row_header> <row_header> Role </row_header> </c> </row> <row> <c> 2006 <col_header> Year </col_header> </c> <c> Gaspard le Bandit <col_header> Title </col_header> </c> <c> Mathilde de Varade <col_header> Role </col_header> </c> <c> Period TV film <col_header> Notes </col_header> </c> </row> <row> <c> 2011 <col_header> Year </col_header> </c> <c> Eyes Find Eyes <col_header> Title </col_header> </c> <c> Estelle <col_header> Role </col_header> </c> <c>  <col_header> Notes </col_header> </c> </row> <row> <c> Section de recherche <col_header> Year </col_header> </c> <c> Caroline <col_header> Title </col_header> </c> <c> Police TV series (1 episode: No.5.3) <col_header> Role </col_header> </c> </row> <row> <c> Awake to Emptiness <col_header> Year </col_header> </c> <c> Alma <col_header> Title </col_header> </c> <c> Short film <col_header> Role </col_header> </c> </row> <row> <c> 2012 <col_header> Year </col_header> </c> <c> Sea, No Sex and Sun <col_header> Title </col_header> </c> <c> Diane <col_header> Role </col_header> </c> <c>  <col_header> Notes </col_header> </c> </row> <row> <c> 2013 <col_header> Year </col_header> </c> <c> Blue Is the Warmest Colour <col_header> Title </col_header> </c> <c> Béatrice <col_header> Role </col_header> </c> <c>  <col_header> Notes </col_header> </c> </row> <row> <c> 2014 <col_header> Year </col_header> </c> <c> La Vie devant elles [fr] <col_header> Title </col_header> </c> <c> Solana <col_header> Role </col_header> </c> <c> TV series by Gabriel Aghion (6 episodes) <col_header> Notes </col_header> </c> </row> <row> <highlighted_cell> 2016 <col_header> Year </col_header> </highlighted_cell> <highlighted_cell> Kids in Love <col_header> Title </col_header> </highlighted_cell> <highlighted_cell> Evelyn <col_header> Role </col_header> </highlighted_cell> <c> Ealing Studios <col_header> Notes </col_header> </c> </row> <row> <c> 2017 <col_header> Year </col_header> </c> <c> The Starry Sky Above Me <col_header> Title </col_header> </c> <c> Justyna <col_header> Role </col_header> </c> <c>  <col_header> Notes </col_header> </c> </row> <row> <c> TBA <col_header> Year </col_header> </c> <c> Smiley <col_header> Title </col_header> </c> <c> TBA <col_header> Role </col_header> </c> <c>  <col_header> Notes </col_header> </c> </row> </table>\n",
      "\n",
      "In 2016, she played Evelyn in Kids in Love.</s>\n"
     ]
    }
   ],
   "source": [
    "ckpt = \"mrm8488/bloom-560m-finetuned-totto-table-to-text\"\n",
    "\n",
    "tokenizer = BloomTokenizerFast.from_pretrained(ckpt)\n",
    "model = BloomForCausalLM.from_pretrained(ckpt).to(\"cuda\")\n",
    "\n",
    "\n",
    "def explain_hl_cells(text):\n",
    "    inputs = tokenizer(text, return_tensors='pt')\n",
    "    input_ids = inputs.input_ids.to(\"cuda\")\n",
    "    attention_mask = inputs.attention_mask.to(\"cuda\")\n",
    "    output = model.generate(input_ids, attention_mask=attention_mask, max_length=2048, eos_token_id=tokenizer.eos_token_id)\n",
    "\n",
    "    return tokenizer.decode(output[0], skip_special_tokens=False)\n",
    "\n",
    "print(explain_hl_cells(valid_dataset[1]['linearized_table']))"
   ]
  },
  {
   "cell_type": "markdown",
   "id": "a389ad5d-aaed-4cd2-8bc5-601a48afcf39",
   "metadata": {},
   "source": [
    "### Debugging"
   ]
  },
  {
   "cell_type": "code",
   "execution_count": 23,
   "id": "701d26f6-4c46-40b3-8a82-f235fb2e3dc4",
   "metadata": {},
   "outputs": [],
   "source": [
    "table = valid_dataset[1]['table']"
   ]
  },
  {
   "cell_type": "code",
   "execution_count": 24,
   "id": "701dacc3-10ca-4bea-99de-67e4d5d47c6d",
   "metadata": {},
   "outputs": [],
   "source": [
    "import copy"
   ]
  },
  {
   "cell_type": "code",
   "execution_count": 25,
   "id": "d324a310-a90f-492d-ba41-0c2b9437bae9",
   "metadata": {},
   "outputs": [],
   "source": [
    "def _add_adjusted_col_offsets(table):\n",
    "    \"\"\"Add adjusted column offsets to take into account multi-column cells.\"\"\"\n",
    "    adjusted_table = []\n",
    "    for row in table:\n",
    "      real_col_index = 0\n",
    "      adjusted_row = []\n",
    "      for cell in row:\n",
    "        adjusted_cell = copy.deepcopy(cell)\n",
    "        adjusted_cell[\"adjusted_col_start\"] = real_col_index\n",
    "        adjusted_cell[\"adjusted_col_end\"] = (\n",
    "            adjusted_cell[\"adjusted_col_start\"] + adjusted_cell[\"column_span\"])\n",
    "        real_col_index += adjusted_cell[\"column_span\"]\n",
    "        adjusted_row.append(adjusted_cell)\n",
    "      adjusted_table.append(adjusted_row)\n",
    "    return adjusted_table"
   ]
  },
  {
   "cell_type": "code",
   "execution_count": 26,
   "id": "5ca21865-9856-4c5c-995f-a22514162110",
   "metadata": {},
   "outputs": [
    {
     "name": "stdout",
     "output_type": "stream",
     "text": [
      "[[{'column_span': 1, 'is_header': True, 'row_span': 1, 'value': 'Year', 'adjusted_col_start': 0, 'adjusted_col_end': 1}, {'column_span': 1, 'is_header': True, 'row_span': 1, 'value': 'Title', 'adjusted_col_start': 1, 'adjusted_col_end': 2}, {'column_span': 1, 'is_header': True, 'row_span': 1, 'value': 'Role', 'adjusted_col_start': 2, 'adjusted_col_end': 3}, {'column_span': 1, 'is_header': True, 'row_span': 1, 'value': 'Notes', 'adjusted_col_start': 3, 'adjusted_col_end': 4}], [{'column_span': 1, 'is_header': False, 'row_span': 1, 'value': '2006', 'adjusted_col_start': 0, 'adjusted_col_end': 1}, {'column_span': 1, 'is_header': False, 'row_span': 1, 'value': 'Gaspard le Bandit', 'adjusted_col_start': 1, 'adjusted_col_end': 2}, {'column_span': 1, 'is_header': False, 'row_span': 1, 'value': 'Mathilde de Varade', 'adjusted_col_start': 2, 'adjusted_col_end': 3}, {'column_span': 1, 'is_header': False, 'row_span': 1, 'value': 'Period TV film', 'adjusted_col_start': 3, 'adjusted_col_end': 4}], [{'column_span': 1, 'is_header': False, 'row_span': 3, 'value': '2011', 'adjusted_col_start': 0, 'adjusted_col_end': 1}, {'column_span': 1, 'is_header': False, 'row_span': 1, 'value': 'Eyes Find Eyes', 'adjusted_col_start': 1, 'adjusted_col_end': 2}, {'column_span': 1, 'is_header': False, 'row_span': 1, 'value': 'Estelle', 'adjusted_col_start': 2, 'adjusted_col_end': 3}, {'column_span': 1, 'is_header': False, 'row_span': 1, 'value': '', 'adjusted_col_start': 3, 'adjusted_col_end': 4}], [{'column_span': 1, 'is_header': False, 'row_span': 1, 'value': 'Section de recherche', 'adjusted_col_start': 0, 'adjusted_col_end': 1}, {'column_span': 1, 'is_header': False, 'row_span': 1, 'value': 'Caroline', 'adjusted_col_start': 1, 'adjusted_col_end': 2}, {'column_span': 1, 'is_header': False, 'row_span': 1, 'value': 'Police TV series (1 episode: No.5.3)', 'adjusted_col_start': 2, 'adjusted_col_end': 3}], [{'column_span': 1, 'is_header': False, 'row_span': 1, 'value': 'Awake to Emptiness', 'adjusted_col_start': 0, 'adjusted_col_end': 1}, {'column_span': 1, 'is_header': False, 'row_span': 1, 'value': 'Alma', 'adjusted_col_start': 1, 'adjusted_col_end': 2}, {'column_span': 1, 'is_header': False, 'row_span': 1, 'value': 'Short film', 'adjusted_col_start': 2, 'adjusted_col_end': 3}], [{'column_span': 1, 'is_header': False, 'row_span': 1, 'value': '2012', 'adjusted_col_start': 0, 'adjusted_col_end': 1}, {'column_span': 1, 'is_header': False, 'row_span': 1, 'value': 'Sea, No Sex and Sun', 'adjusted_col_start': 1, 'adjusted_col_end': 2}, {'column_span': 1, 'is_header': False, 'row_span': 1, 'value': 'Diane', 'adjusted_col_start': 2, 'adjusted_col_end': 3}, {'column_span': 1, 'is_header': False, 'row_span': 1, 'value': '', 'adjusted_col_start': 3, 'adjusted_col_end': 4}], [{'column_span': 1, 'is_header': False, 'row_span': 1, 'value': '2013', 'adjusted_col_start': 0, 'adjusted_col_end': 1}, {'column_span': 1, 'is_header': False, 'row_span': 1, 'value': 'Blue Is the Warmest Colour', 'adjusted_col_start': 1, 'adjusted_col_end': 2}, {'column_span': 1, 'is_header': False, 'row_span': 1, 'value': 'Béatrice', 'adjusted_col_start': 2, 'adjusted_col_end': 3}, {'column_span': 1, 'is_header': False, 'row_span': 1, 'value': '', 'adjusted_col_start': 3, 'adjusted_col_end': 4}], [{'column_span': 1, 'is_header': False, 'row_span': 1, 'value': '2014', 'adjusted_col_start': 0, 'adjusted_col_end': 1}, {'column_span': 1, 'is_header': False, 'row_span': 1, 'value': 'La Vie devant elles [fr]', 'adjusted_col_start': 1, 'adjusted_col_end': 2}, {'column_span': 1, 'is_header': False, 'row_span': 1, 'value': 'Solana', 'adjusted_col_start': 2, 'adjusted_col_end': 3}, {'column_span': 1, 'is_header': False, 'row_span': 1, 'value': 'TV series by Gabriel Aghion (6 episodes)', 'adjusted_col_start': 3, 'adjusted_col_end': 4}], [{'column_span': 1, 'is_header': False, 'row_span': 1, 'value': '2016', 'adjusted_col_start': 0, 'adjusted_col_end': 1}, {'column_span': 1, 'is_header': False, 'row_span': 1, 'value': 'Kids in Love', 'adjusted_col_start': 1, 'adjusted_col_end': 2}, {'column_span': 1, 'is_header': False, 'row_span': 1, 'value': 'Evelyn', 'adjusted_col_start': 2, 'adjusted_col_end': 3}, {'column_span': 1, 'is_header': False, 'row_span': 1, 'value': 'Ealing Studios', 'adjusted_col_start': 3, 'adjusted_col_end': 4}], [{'column_span': 1, 'is_header': False, 'row_span': 1, 'value': '2017', 'adjusted_col_start': 0, 'adjusted_col_end': 1}, {'column_span': 1, 'is_header': False, 'row_span': 1, 'value': 'The Starry Sky Above Me', 'adjusted_col_start': 1, 'adjusted_col_end': 2}, {'column_span': 1, 'is_header': False, 'row_span': 1, 'value': 'Justyna', 'adjusted_col_start': 2, 'adjusted_col_end': 3}, {'column_span': 1, 'is_header': False, 'row_span': 1, 'value': '', 'adjusted_col_start': 3, 'adjusted_col_end': 4}], [{'column_span': 1, 'is_header': False, 'row_span': 1, 'value': 'TBA', 'adjusted_col_start': 0, 'adjusted_col_end': 1}, {'column_span': 1, 'is_header': False, 'row_span': 1, 'value': 'Smiley', 'adjusted_col_start': 1, 'adjusted_col_end': 2}, {'column_span': 1, 'is_header': False, 'row_span': 1, 'value': 'TBA', 'adjusted_col_start': 2, 'adjusted_col_end': 3}, {'column_span': 1, 'is_header': False, 'row_span': 1, 'value': '', 'adjusted_col_start': 3, 'adjusted_col_end': 4}]]\n"
     ]
    }
   ],
   "source": [
    "adjusted_table = _add_adjusted_col_offsets(table)\n",
    "print(adjusted_table)"
   ]
  },
  {
   "cell_type": "code",
   "execution_count": 27,
   "id": "b77eca90-9c46-4673-abbc-f126359170aa",
   "metadata": {},
   "outputs": [],
   "source": [
    "def _get_heuristic_row_headers(adjusted_table, row_index, col_index):\n",
    "    \"\"\"Heuristic to find row headers.\"\"\"\n",
    "    row_headers = []\n",
    "    row = adjusted_table[row_index]\n",
    "    for i in range(0, col_index):\n",
    "      if row[i][\"is_header\"]:\n",
    "        row_headers.append(row[i])\n",
    "    return row_headers"
   ]
  },
  {
   "cell_type": "code",
   "execution_count": 28,
   "id": "e9f7572e-6622-4212-8c9d-a98462c6f236",
   "metadata": {},
   "outputs": [
    {
     "name": "stdout",
     "output_type": "stream",
     "text": [
      "[{'column_span': 1, 'is_header': True, 'row_span': 1, 'value': 'Year'}, {'column_span': 1, 'is_header': True, 'row_span': 1, 'value': 'Title'}, {'column_span': 1, 'is_header': True, 'row_span': 1, 'value': 'Role'}, {'column_span': 1, 'is_header': True, 'row_span': 1, 'value': 'Notes'}]\n",
      "\n",
      "\n",
      "[]\n"
     ]
    }
   ],
   "source": [
    "for r_index, row in enumerate(table):\n",
    "    print(row)\n",
    "    print('\\n')\n",
    "    row_headers = _get_heuristic_row_headers(adjusted_table, r_index, c_index)\n",
    "    print(row_headers)\n",
    "    break"
   ]
  },
  {
   "cell_type": "code",
   "execution_count": 29,
   "id": "f0a63540-d699-4368-829d-aa9e593c9a0f",
   "metadata": {},
   "outputs": [],
   "source": [
    "def _get_heuristic_col_headers(adjusted_table, row_index, col_index):\n",
    "    \"\"\"Heuristic to find column headers.\"\"\"\n",
    "    adjusted_cell = adjusted_table[row_index][col_index]\n",
    "    adjusted_col_start = adjusted_cell[\"adjusted_col_start\"]\n",
    "    adjusted_col_end = adjusted_cell[\"adjusted_col_end\"]\n",
    "    col_headers = []\n",
    "    for r in range(0, row_index):\n",
    "      row = adjusted_table[r]\n",
    "      for cell in row:\n",
    "        if (cell[\"adjusted_col_start\"] < adjusted_col_end and\n",
    "            cell[\"adjusted_col_end\"] > adjusted_col_start):\n",
    "          if cell[\"is_header\"]:\n",
    "            col_headers.append(cell)\n",
    "\n",
    "    return col_headers"
   ]
  },
  {
   "cell_type": "code",
   "execution_count": 30,
   "id": "7ffebb71-86f8-4e11-a705-ad32fe41c74e",
   "metadata": {},
   "outputs": [],
   "source": [
    "subject = valid_dataset[1]['table_page_title']\n",
    "# print(subject)\n",
    "cell_indices = valid_dataset[1][\"highlighted_cells\"]\n",
    "all_tripples = list()\n",
    "highlighted_tripples = list()\n",
    "\n",
    "table_str = \"<table> \"\n",
    "highlight_str = \"<highlight>\"\n",
    "\n",
    "for r_index, row in enumerate(table):\n",
    "    row_str = \"<row> \"\n",
    "    highlight_row_str = \"<row> \"\n",
    "    \n",
    "    for c_index, col in enumerate(row):\n",
    "        start_cell_marker = \"<c> \"\n",
    "        end_cell_marker = \"</c> \"\n",
    "        col_headers = _get_heuristic_col_headers(adjusted_table, r_index, c_index)\n",
    "        if col_headers:\n",
    "            # print(col)\n",
    "            # print(col_headers)\n",
    "            # print('\\n')\n",
    "            \n",
    "            all_tripples.append((subject, col_headers[0]['value'], col['value']))\n",
    "            \n",
    "            item_str = start_cell_marker + col[\"value\"] + \" \"\n",
    "\n",
    "            for col_header in col_headers:\n",
    "                item_str += \"<col_header> \" + col_header[\"value\"] + \" </col_header> \"\n",
    "\n",
    "            for row_header in row_headers:\n",
    "                item_str += \"<row_header> \" + row_header[\"value\"] + \" </row_header> \"\n",
    "\n",
    "            item_str += end_cell_marker\n",
    "            row_str += item_str\n",
    "            \n",
    "            if [r_index, c_index] in cell_indices:\n",
    "                highlighted_tripples.append((subject, col_headers[0]['value'], col['value']))\n",
    "                highlight_row_str += item_str\n",
    "\n",
    "    row_str += \"</row> \"\n",
    "    table_str += row_str\n",
    "    \n",
    "    \n",
    "    highlight_row_str += \"</row> \"\n",
    "    highlight_str += highlight_row_str\n",
    "    \n",
    "table_str += \"</table>\"\n",
    "highlight_str += \"</highlight>\""
   ]
  },
  {
   "cell_type": "code",
   "execution_count": 32,
   "id": "e9f9ca98-ab30-4f3a-96af-b92fe346d9c7",
   "metadata": {},
   "outputs": [
    {
     "name": "stdout",
     "output_type": "stream",
     "text": [
      "[('Alma Jodorowsky', 'Year', '2006'), ('Alma Jodorowsky', 'Title', 'Gaspard le Bandit'), ('Alma Jodorowsky', 'Role', 'Mathilde de Varade'), ('Alma Jodorowsky', 'Notes', 'Period TV film'), ('Alma Jodorowsky', 'Year', '2011'), ('Alma Jodorowsky', 'Title', 'Eyes Find Eyes'), ('Alma Jodorowsky', 'Role', 'Estelle'), ('Alma Jodorowsky', 'Notes', ''), ('Alma Jodorowsky', 'Year', 'Section de recherche'), ('Alma Jodorowsky', 'Title', 'Caroline')]\n"
     ]
    }
   ],
   "source": [
    "print(all_tripples[:10])"
   ]
  },
  {
   "cell_type": "code",
   "execution_count": 33,
   "id": "053b0806-ab40-4706-936e-4f834aadfe07",
   "metadata": {},
   "outputs": [
    {
     "name": "stdout",
     "output_type": "stream",
     "text": [
      "[('Alma Jodorowsky', 'Year', '2016'), ('Alma Jodorowsky', 'Title', 'Kids in Love'), ('Alma Jodorowsky', 'Role', 'Evelyn')]\n"
     ]
    }
   ],
   "source": [
    "print(highlighted_tripples)"
   ]
  },
  {
   "cell_type": "code",
   "execution_count": 34,
   "id": "dcc7f138-4913-46f1-9bdc-ebf9d5a97db1",
   "metadata": {},
   "outputs": [
    {
     "name": "stdout",
     "output_type": "stream",
     "text": [
      "<table> <row> </row> <row> <c> 2006 <col_header> Year </col_header> </c> <c> Gaspard le Bandit <col_header> Title </col_header> </c> <c> Mathilde de Varade <col_header> Role </col_header> </c> <c> Period TV film <col_header> Notes </col_header> </c> </row> <row> <c> 2011 <col_header> Year </col_header> </c> <c> Eyes Find Eyes <col_header> Title </col_header> </c> <c> Estelle <col_header> Role </col_header> </c> <c>  <col_header> Notes </col_header> </c> </row> <row> <c> Section de recherche <col_header> Year </col_header> </c> <c> Caroline <col_header> Title </col_header> </c> <c> Police TV series (1 episode: No.5.3) <col_header> Role </col_header> </c> </row> <row> <c> Awake to Emptiness <col_header> Year </col_header> </c> <c> Alma <col_header> Title </col_header> </c> <c> Short film <col_header> Role </col_header> </c> </row> <row> <c> 2012 <col_header> Year </col_header> </c> <c> Sea, No Sex and Sun <col_header> Title </col_header> </c> <c> Diane <col_header> Role </col_header> </c> <c>  <col_header> Notes </col_header> </c> </row> <row> <c> 2013 <col_header> Year </col_header> </c> <c> Blue Is the Warmest Colour <col_header> Title </col_header> </c> <c> Béatrice <col_header> Role </col_header> </c> <c>  <col_header> Notes </col_header> </c> </row> <row> <c> 2014 <col_header> Year </col_header> </c> <c> La Vie devant elles [fr] <col_header> Title </col_header> </c> <c> Solana <col_header> Role </col_header> </c> <c> TV series by Gabriel Aghion (6 episodes) <col_header> Notes </col_header> </c> </row> <row> <c> 2016 <col_header> Year </col_header> </c> <c> Kids in Love <col_header> Title </col_header> </c> <c> Evelyn <col_header> Role </col_header> </c> <c> Ealing Studios <col_header> Notes </col_header> </c> </row> <row> <c> 2017 <col_header> Year </col_header> </c> <c> The Starry Sky Above Me <col_header> Title </col_header> </c> <c> Justyna <col_header> Role </col_header> </c> <c>  <col_header> Notes </col_header> </c> </row> <row> <c> TBA <col_header> Year </col_header> </c> <c> Smiley <col_header> Title </col_header> </c> <c> TBA <col_header> Role </col_header> </c> <c>  <col_header> Notes </col_header> </c> </row> </table>\n"
     ]
    }
   ],
   "source": [
    "print(table_str)"
   ]
  },
  {
   "cell_type": "code",
   "execution_count": 35,
   "id": "ab9567fe-e6b8-4154-af78-f58f957155c6",
   "metadata": {},
   "outputs": [
    {
     "name": "stdout",
     "output_type": "stream",
     "text": [
      "<highlight><row> </row> <row> </row> <row> </row> <row> </row> <row> </row> <row> </row> <row> </row> <row> </row> <row> <c> 2016 <col_header> Year </col_header> </c> <c> Kids in Love <col_header> Title </col_header> </c> <c> Evelyn <col_header> Role </col_header> </c> </row> <row> </row> <row> </row> </highlight>\n"
     ]
    }
   ],
   "source": [
    "print(highlight_str)"
   ]
  },
  {
   "cell_type": "code",
   "execution_count": 36,
   "id": "cd994f9c-b7cd-49b2-898e-f0c88d944436",
   "metadata": {},
   "outputs": [],
   "source": [
    "from nltk.util import ngrams\n",
    "import re\n",
    "\n",
    "from nltk.corpus import stopwords\n",
    "stop = stopwords.words('english')\n",
    "\n",
    "def trigrams_text(s):\n",
    "    s = s.lower()\n",
    "    s = re.sub(r'[^a-zA-Z0-9\\s]', ' ', s)\n",
    "    tokens = [token for token in s.split(\" \") if token != \"\" and token not in (stop)]\n",
    "    output = list(ngrams(tokens, 3))\n",
    "    return output"
   ]
  },
  {
   "cell_type": "code",
   "execution_count": 37,
   "id": "7d9d3c6b-4927-4d18-8cad-ecfb2680493d",
   "metadata": {},
   "outputs": [
    {
     "name": "stdout",
     "output_type": "stream",
     "text": [
      "Alma Jodorowsky had the role of Evelyn in 2016 film Kids in Love.\n",
      "[('alma', 'jodorowsky', 'role'), ('jodorowsky', 'role', 'evelyn'), ('role', 'evelyn', '2016'), ('evelyn', '2016', 'film'), ('2016', 'film', 'kids'), ('film', 'kids', 'love')]\n"
     ]
    }
   ],
   "source": [
    "desc = valid_dataset[1]['sentence_annotations']['final_sentence'][0]\n",
    "print(desc)\n",
    "print(trigrams_text(desc))"
   ]
  },
  {
   "cell_type": "code",
   "execution_count": null,
   "id": "7475c315-be7f-4ab5-9d11-312eff572605",
   "metadata": {},
   "outputs": [],
   "source": []
  }
 ],
 "metadata": {
  "kernelspec": {
   "display_name": "Python 3 (ipykernel)",
   "language": "python",
   "name": "python3"
  },
  "language_info": {
   "codemirror_mode": {
    "name": "ipython",
    "version": 3
   },
   "file_extension": ".py",
   "mimetype": "text/x-python",
   "name": "python",
   "nbconvert_exporter": "python",
   "pygments_lexer": "ipython3",
   "version": "3.10.6"
  }
 },
 "nbformat": 4,
 "nbformat_minor": 5
}
